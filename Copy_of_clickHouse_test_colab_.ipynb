{
  "nbformat": 4,
  "nbformat_minor": 0,
  "metadata": {
    "colab": {
      "provenance": [],
      "include_colab_link": true
    },
    "kernelspec": {
      "name": "python3",
      "display_name": "Python 3"
    },
    "language_info": {
      "name": "python"
    }
  },
  "cells": [
    {
      "cell_type": "markdown",
      "metadata": {
        "id": "view-in-github",
        "colab_type": "text"
      },
      "source": [
        "<a href=\"https://colab.research.google.com/github/DrAnonim/CoinMarketCap-API/blob/master/Copy_of_clickHouse_test_colab_.ipynb\" target=\"_parent\"><img src=\"https://colab.research.google.com/assets/colab-badge.svg\" alt=\"Open In Colab\"/></a>"
      ]
    },
    {
      "cell_type": "code",
      "metadata": {
        "id": "T6zN9XP0fVaV"
      },
      "source": [
        "!sudo apt-get install apt-transport-https ca-certificates dirmngr\n",
        "!sudo apt-key adv --keyserver hkp://keyserver.ubuntu.com:80 --recv E0C56BD4\n",
        "\n",
        "!echo \"deb https://repo.clickhouse.tech/deb/stable/ main/\" | sudo tee \\\n",
        "    /etc/apt/sources.list.d/clickhouse.list\n",
        "!sudo apt-get update\n",
        "\n",
        "!sudo apt-get install -y clickhouse-server clickhouse-client\n",
        "\n",
        "!sudo service clickhouse-server start\n",
        "!clickhouse-client"
      ],
      "execution_count": null,
      "outputs": []
    },
    {
      "cell_type": "code",
      "metadata": {
        "id": "DYZsT-5ofcu9",
        "colab": {
          "base_uri": "https://localhost:8080/"
        },
        "outputId": "96af8daf-1ebc-4c7d-c8a6-1c5a6b78417d"
      },
      "source": [
        "!pip install clickhouse-driver"
      ],
      "execution_count": null,
      "outputs": [
        {
          "output_type": "stream",
          "text": [
            "Collecting clickhouse-driver\n",
            "\u001b[?25l  Downloading https://files.pythonhosted.org/packages/7d/33/16f13d59d084ab3f38ef4c8f6906834d1a004c03ef2f68714ae22e42a3d6/clickhouse_driver-0.2.0-cp37-cp37m-manylinux2010_x86_64.whl (480kB)\n",
            "\r\u001b[K     |▊                               | 10kB 14.5MB/s eta 0:00:01\r\u001b[K     |█▍                              | 20kB 19.3MB/s eta 0:00:01\r\u001b[K     |██                              | 30kB 12.1MB/s eta 0:00:01\r\u001b[K     |██▊                             | 40kB 9.7MB/s eta 0:00:01\r\u001b[K     |███▍                            | 51kB 8.1MB/s eta 0:00:01\r\u001b[K     |████                            | 61kB 7.8MB/s eta 0:00:01\r\u001b[K     |████▊                           | 71kB 8.0MB/s eta 0:00:01\r\u001b[K     |█████▌                          | 81kB 8.4MB/s eta 0:00:01\r\u001b[K     |██████▏                         | 92kB 8.1MB/s eta 0:00:01\r\u001b[K     |██████▉                         | 102kB 8.4MB/s eta 0:00:01\r\u001b[K     |███████▌                        | 112kB 8.4MB/s eta 0:00:01\r\u001b[K     |████████▏                       | 122kB 8.4MB/s eta 0:00:01\r\u001b[K     |████████▉                       | 133kB 8.4MB/s eta 0:00:01\r\u001b[K     |█████████▌                      | 143kB 8.4MB/s eta 0:00:01\r\u001b[K     |██████████▎                     | 153kB 8.4MB/s eta 0:00:01\r\u001b[K     |███████████                     | 163kB 8.4MB/s eta 0:00:01\r\u001b[K     |███████████▋                    | 174kB 8.4MB/s eta 0:00:01\r\u001b[K     |████████████▎                   | 184kB 8.4MB/s eta 0:00:01\r\u001b[K     |█████████████                   | 194kB 8.4MB/s eta 0:00:01\r\u001b[K     |█████████████▋                  | 204kB 8.4MB/s eta 0:00:01\r\u001b[K     |██████████████▎                 | 215kB 8.4MB/s eta 0:00:01\r\u001b[K     |███████████████                 | 225kB 8.4MB/s eta 0:00:01\r\u001b[K     |███████████████▊                | 235kB 8.4MB/s eta 0:00:01\r\u001b[K     |████████████████▍               | 245kB 8.4MB/s eta 0:00:01\r\u001b[K     |█████████████████               | 256kB 8.4MB/s eta 0:00:01\r\u001b[K     |█████████████████▊              | 266kB 8.4MB/s eta 0:00:01\r\u001b[K     |██████████████████▍             | 276kB 8.4MB/s eta 0:00:01\r\u001b[K     |███████████████████             | 286kB 8.4MB/s eta 0:00:01\r\u001b[K     |███████████████████▉            | 296kB 8.4MB/s eta 0:00:01\r\u001b[K     |████████████████████▌           | 307kB 8.4MB/s eta 0:00:01\r\u001b[K     |█████████████████████▏          | 317kB 8.4MB/s eta 0:00:01\r\u001b[K     |█████████████████████▉          | 327kB 8.4MB/s eta 0:00:01\r\u001b[K     |██████████████████████▌         | 337kB 8.4MB/s eta 0:00:01\r\u001b[K     |███████████████████████▏        | 348kB 8.4MB/s eta 0:00:01\r\u001b[K     |███████████████████████▉        | 358kB 8.4MB/s eta 0:00:01\r\u001b[K     |████████████████████████▋       | 368kB 8.4MB/s eta 0:00:01\r\u001b[K     |█████████████████████████▎      | 378kB 8.4MB/s eta 0:00:01\r\u001b[K     |██████████████████████████      | 389kB 8.4MB/s eta 0:00:01\r\u001b[K     |██████████████████████████▋     | 399kB 8.4MB/s eta 0:00:01\r\u001b[K     |███████████████████████████▎    | 409kB 8.4MB/s eta 0:00:01\r\u001b[K     |████████████████████████████    | 419kB 8.4MB/s eta 0:00:01\r\u001b[K     |████████████████████████████▋   | 430kB 8.4MB/s eta 0:00:01\r\u001b[K     |█████████████████████████████▍  | 440kB 8.4MB/s eta 0:00:01\r\u001b[K     |██████████████████████████████  | 450kB 8.4MB/s eta 0:00:01\r\u001b[K     |██████████████████████████████▊ | 460kB 8.4MB/s eta 0:00:01\r\u001b[K     |███████████████████████████████▍| 471kB 8.4MB/s eta 0:00:01\r\u001b[K     |████████████████████████████████| 481kB 8.4MB/s \n",
            "\u001b[?25hRequirement already satisfied: tzlocal<3.0 in /usr/local/lib/python3.7/dist-packages (from clickhouse-driver) (1.5.1)\n",
            "Requirement already satisfied: pytz in /usr/local/lib/python3.7/dist-packages (from clickhouse-driver) (2018.9)\n",
            "Installing collected packages: clickhouse-driver\n",
            "Successfully installed clickhouse-driver-0.2.0\n"
          ],
          "name": "stdout"
        }
      ]
    },
    {
      "cell_type": "code",
      "metadata": {
        "id": "A6DUpJl7fft0",
        "colab": {
          "base_uri": "https://localhost:8080/"
        },
        "outputId": "4a22a4b4-9e7e-4aeb-f3de-0a66413cc1c4"
      },
      "source": [
        "from clickhouse_driver import Client\n",
        "client = Client(host='localhost')\n",
        "client.execute('SHOW DATABASES')"
      ],
      "execution_count": null,
      "outputs": [
        {
          "output_type": "execute_result",
          "data": {
            "text/plain": [
              "[('default',), ('system',)]"
            ]
          },
          "metadata": {
            "tags": []
          },
          "execution_count": 3
        }
      ]
    },
    {
      "cell_type": "code",
      "metadata": {
        "id": "kjyurshBfhm8"
      },
      "source": [
        "import pandas as pd\n",
        "import numpy as np\n",
        "from datetime import datetime"
      ],
      "execution_count": null,
      "outputs": []
    },
    {
      "cell_type": "code",
      "metadata": {
        "id": "u8UEF7aihE6k"
      },
      "source": [
        "df = pd.DataFrame({'dt':['2020-01-01','2020-01-02'],'product':['product1','product2'],'amount':[2,3]})"
      ],
      "execution_count": null,
      "outputs": []
    },
    {
      "cell_type": "code",
      "metadata": {
        "colab": {
          "base_uri": "https://localhost:8080/",
          "height": 108
        },
        "id": "ufU5x01EYeBk",
        "outputId": "a2856df4-7e03-4921-90b1-977010b69e42"
      },
      "source": [
        "df"
      ],
      "execution_count": null,
      "outputs": [
        {
          "output_type": "execute_result",
          "data": {
            "text/html": [
              "<div>\n",
              "<style scoped>\n",
              "    .dataframe tbody tr th:only-of-type {\n",
              "        vertical-align: middle;\n",
              "    }\n",
              "\n",
              "    .dataframe tbody tr th {\n",
              "        vertical-align: top;\n",
              "    }\n",
              "\n",
              "    .dataframe thead th {\n",
              "        text-align: right;\n",
              "    }\n",
              "</style>\n",
              "<table border=\"1\" class=\"dataframe\">\n",
              "  <thead>\n",
              "    <tr style=\"text-align: right;\">\n",
              "      <th></th>\n",
              "      <th>dt</th>\n",
              "      <th>product</th>\n",
              "      <th>amount</th>\n",
              "    </tr>\n",
              "  </thead>\n",
              "  <tbody>\n",
              "    <tr>\n",
              "      <th>0</th>\n",
              "      <td>2020-01-01</td>\n",
              "      <td>product1</td>\n",
              "      <td>2</td>\n",
              "    </tr>\n",
              "    <tr>\n",
              "      <th>1</th>\n",
              "      <td>2020-01-02</td>\n",
              "      <td>product2</td>\n",
              "      <td>3</td>\n",
              "    </tr>\n",
              "  </tbody>\n",
              "</table>\n",
              "</div>"
            ],
            "text/plain": [
              "           dt   product  amount\n",
              "0  2020-01-01  product1       2\n",
              "1  2020-01-02  product2       3"
            ]
          },
          "metadata": {
            "tags": []
          },
          "execution_count": 6
        }
      ]
    },
    {
      "cell_type": "code",
      "metadata": {
        "id": "9f8KWqMXYfpz"
      },
      "source": [
        "df['dt'] = pd.to_datetime(df['dt'],format='%Y-%m-%d')"
      ],
      "execution_count": null,
      "outputs": []
    },
    {
      "cell_type": "code",
      "metadata": {
        "colab": {
          "base_uri": "https://localhost:8080/"
        },
        "id": "KCcplBuvnM1r",
        "outputId": "c768aad2-27bc-400b-c635-979edd646bb6"
      },
      "source": [
        "client.execute('DROP DATABASE IF EXISTS db')"
      ],
      "execution_count": null,
      "outputs": [
        {
          "output_type": "execute_result",
          "data": {
            "text/plain": [
              "[]"
            ]
          },
          "metadata": {
            "tags": []
          },
          "execution_count": 9
        }
      ]
    },
    {
      "cell_type": "code",
      "metadata": {
        "colab": {
          "base_uri": "https://localhost:8080/"
        },
        "id": "x4N77QQvh61d",
        "outputId": "73145875-9413-4141-aa81-792170b95cd6"
      },
      "source": [
        "client.execute('CREATE DATABASE db')"
      ],
      "execution_count": null,
      "outputs": [
        {
          "output_type": "execute_result",
          "data": {
            "text/plain": [
              "[]"
            ]
          },
          "metadata": {
            "tags": []
          },
          "execution_count": 10
        }
      ]
    },
    {
      "cell_type": "code",
      "metadata": {
        "colab": {
          "base_uri": "https://localhost:8080/"
        },
        "id": "pBsQ8t89jrY7",
        "outputId": "e131ac66-65e3-419f-e7f4-c375ca46ab03"
      },
      "source": [
        "client.execute('SHOW DATABASES')"
      ],
      "execution_count": null,
      "outputs": [
        {
          "output_type": "execute_result",
          "data": {
            "text/plain": [
              "[('db',), ('default',), ('system',)]"
            ]
          },
          "metadata": {
            "tags": []
          },
          "execution_count": 11
        }
      ]
    },
    {
      "cell_type": "code",
      "metadata": {
        "id": "RhjFuFZciFPz"
      },
      "source": [
        "# Старый вариант settings={'use_numpy': True}\n",
        "client = Client(host='localhost', user='default', port='9000', database='db',settings={'columnar': True})"
      ],
      "execution_count": null,
      "outputs": []
    },
    {
      "cell_type": "code",
      "metadata": {
        "colab": {
          "base_uri": "https://localhost:8080/"
        },
        "id": "8MRvqJrpknuT",
        "outputId": "9e80e7b6-f117-4c75-ffc9-578cc58add9d"
      },
      "source": [
        "client.execute('DROP TABLE IF EXISTS test')"
      ],
      "execution_count": null,
      "outputs": [
        {
          "output_type": "execute_result",
          "data": {
            "text/plain": [
              "[]"
            ]
          },
          "metadata": {
            "tags": []
          },
          "execution_count": 13
        }
      ]
    },
    {
      "cell_type": "code",
      "metadata": {
        "colab": {
          "base_uri": "https://localhost:8080/"
        },
        "id": "9P2ljJnniRXL",
        "outputId": "e277ca04-7c88-4706-9732-8633c0939144"
      },
      "source": [
        "client.execute('CREATE TABLE test (dt Date, product String, amount Int32) ENGINE = Memory')"
      ],
      "execution_count": null,
      "outputs": [
        {
          "output_type": "execute_result",
          "data": {
            "text/plain": [
              "[]"
            ]
          },
          "metadata": {
            "tags": []
          },
          "execution_count": 14
        }
      ]
    },
    {
      "cell_type": "code",
      "metadata": {
        "colab": {
          "base_uri": "https://localhost:8080/"
        },
        "id": "HcZNrqlVjgF0",
        "outputId": "c8650827-ec95-465b-b4fd-a4a8e0e4c7ec"
      },
      "source": [
        "client.execute('SHOW TABLES FROM db')"
      ],
      "execution_count": null,
      "outputs": [
        {
          "output_type": "execute_result",
          "data": {
            "text/plain": [
              "[('test',)]"
            ]
          },
          "metadata": {
            "tags": []
          },
          "execution_count": 15
        }
      ]
    },
    {
      "cell_type": "code",
      "metadata": {
        "colab": {
          "base_uri": "https://localhost:8080/"
        },
        "id": "bNXjTqZSinMc",
        "outputId": "bcd3faa3-e77d-43f1-fcea-2f9a505cc12f"
      },
      "source": [
        "client.execute(\"INSERT INTO test VALUES\", df.to_dict('records'))"
      ],
      "execution_count": null,
      "outputs": [
        {
          "output_type": "execute_result",
          "data": {
            "text/plain": [
              "2"
            ]
          },
          "metadata": {
            "tags": []
          },
          "execution_count": 16
        }
      ]
    },
    {
      "cell_type": "code",
      "metadata": {
        "id": "hWAGEYDBnjo7"
      },
      "source": [
        "def select(sql):\n",
        "  return client.query_dataframe(sql)"
      ],
      "execution_count": null,
      "outputs": []
    },
    {
      "cell_type": "code",
      "metadata": {
        "id": "zvaST1zbnoXi"
      },
      "source": [
        "sql = '''SELECT *\n",
        "         FROM test as t\n",
        "         ORDER BY t.dt\n",
        "         LIMIT 25'''"
      ],
      "execution_count": null,
      "outputs": []
    },
    {
      "cell_type": "code",
      "metadata": {
        "colab": {
          "base_uri": "https://localhost:8080/",
          "height": 108
        },
        "id": "bwU4Qx-lnsNq",
        "outputId": "1333d816-45ad-42e3-f9da-dd862194057a"
      },
      "source": [
        "select(sql)"
      ],
      "execution_count": null,
      "outputs": [
        {
          "output_type": "execute_result",
          "data": {
            "text/html": [
              "<div>\n",
              "<style scoped>\n",
              "    .dataframe tbody tr th:only-of-type {\n",
              "        vertical-align: middle;\n",
              "    }\n",
              "\n",
              "    .dataframe tbody tr th {\n",
              "        vertical-align: top;\n",
              "    }\n",
              "\n",
              "    .dataframe thead th {\n",
              "        text-align: right;\n",
              "    }\n",
              "</style>\n",
              "<table border=\"1\" class=\"dataframe\">\n",
              "  <thead>\n",
              "    <tr style=\"text-align: right;\">\n",
              "      <th></th>\n",
              "      <th>dt</th>\n",
              "      <th>product</th>\n",
              "      <th>amount</th>\n",
              "    </tr>\n",
              "  </thead>\n",
              "  <tbody>\n",
              "    <tr>\n",
              "      <th>0</th>\n",
              "      <td>2020-01-01</td>\n",
              "      <td>product1</td>\n",
              "      <td>2</td>\n",
              "    </tr>\n",
              "    <tr>\n",
              "      <th>1</th>\n",
              "      <td>2020-01-02</td>\n",
              "      <td>product2</td>\n",
              "      <td>3</td>\n",
              "    </tr>\n",
              "  </tbody>\n",
              "</table>\n",
              "</div>"
            ],
            "text/plain": [
              "           dt   product  amount\n",
              "0  2020-01-01  product1       2\n",
              "1  2020-01-02  product2       3"
            ]
          },
          "metadata": {
            "tags": []
          },
          "execution_count": 24
        }
      ]
    },
    {
      "cell_type": "markdown",
      "metadata": {
        "id": "3AGEJVpl-plJ"
      },
      "source": [
        "https://clickhouse.tech/docs/en/getting-started/example-datasets/metrica/"
      ]
    },
    {
      "cell_type": "code",
      "metadata": {
        "id": "j41yFnoJ-qfg"
      },
      "source": [
        "sql  = '''SELECT COUNT(*) FROM datasets.hits_v1'''"
      ],
      "execution_count": null,
      "outputs": []
    },
    {
      "cell_type": "markdown",
      "metadata": {
        "id": "HYM7JnV8Zizz"
      },
      "source": [
        "```\n",
        "Задание 1\n",
        "В таблице table есть 2 события статистики:\n",
        "tutorial_finished - окончание туториала\n",
        "kiss_receive - получение поцелуя - пишется на каждый поцелуй\n",
        "Нужно вывести среднее время в минутах, которое занимает у\n",
        "прошедшего туториал юзера, до получения 3 поцелуя. Максимальное\n",
        "время между событиями нужно ограничить сверху 30 минутами.\n",
        "У каждого ивента есть поля:\n",
        "__uid - id юзера\n",
        "__event_time - время события, формат ‘YY-MM-DD HH-MM-SS’\n",
        "__event_date - дата события, формат ‘YY-MM-DD’\n",
        "Работать с полем ивента: - id того, у кого было это событие.\n",
        "Пример запроса, который выведет время и id юзера, которые\n",
        "закончили туториал:\n",
        "select event_time, tutorial_finished__uid\n",
        "from table\n",
        "where event = ‘tutorial_finished’\n",
        "Задание 2\n",
        "Есть событие статистики income_generated (совершение покупки) c\n",
        "полями\n",
        "__uid - id юзера\n",
        "__event_time - время события, формат ‘YY-MM-DD HH-MM-SS’\n",
        "__event_date - дата события, формат ‘YY-MM-DD’\n",
        "__value – сумма покупки\n",
        "Используя диалект SQL базы данных Clickhouse, необходимо\n",
        "предложить sql запрос, который бы вывел кумулятивную сумму\n",
        "покупок с интервалом в 6 часов с начала текущего месяца по сейчас.\n",
        "```"
      ]
    },
    {
      "cell_type": "code",
      "metadata": {
        "id": "u18HYw8mZkoQ"
      },
      "source": [
        "user1 = pd.DataFrame({'event_type':['tutorial_finished','kiss_receive','kiss_receive','kiss_receive','kiss_receive'],\n",
        "                   'uid':[1,1,1,1,1],\n",
        "                   'event_time':['2021-04-01 10:32:21','2021-04-01 10:41:00',\n",
        "                                 '2021-04-01 11:10:00','2021-04-01 11:20:00',\n",
        "                                 '2021-04-01 15:41:00']})"
      ],
      "execution_count": null,
      "outputs": []
    },
    {
      "cell_type": "code",
      "metadata": {
        "id": "sXXHrRcq8w31"
      },
      "source": [
        "user2 = pd.DataFrame({'event_type':['tutorial_finished','kiss_receive','kiss_receive','kiss_receive','kiss_receive'],\n",
        "                   'uid':[2,2,2,2,2],\n",
        "                   'event_time':['2021-04-01 10:32:21','2021-04-01 10:36:00',\n",
        "                                 '2021-04-01 11:01:00','2021-04-01 11:30:00',\n",
        "                                 '2021-04-01 15:40:00']})"
      ],
      "execution_count": null,
      "outputs": []
    },
    {
      "cell_type": "code",
      "metadata": {
        "id": "SuWbJ0gT9jnF"
      },
      "source": [
        "user3 = pd.DataFrame({'event_type':['tutorial_finished','kiss_receive','kiss_receive','kiss_receive','kiss_receive'],\n",
        "                   'uid':[3,3,3,3,3],\n",
        "                   'event_time':['2021-04-01 10:32:21','2021-04-01 10:36:00',\n",
        "                                 '2021-04-01 11:01:00','2021-04-01 11:50:00',\n",
        "                                 '2021-04-01 12:10:00']})"
      ],
      "execution_count": null,
      "outputs": []
    },
    {
      "cell_type": "code",
      "metadata": {
        "id": "Ls7ezHwb-Pfw"
      },
      "source": [
        "user4 = pd.DataFrame({'event_type':['kiss_receive','kiss_receive','kiss_receive','kiss_receive','kiss_receive'],\n",
        "                   'uid':[4]*5,\n",
        "                   'event_time':['2021-04-01 10:32:21','2021-04-01 10:36:00',\n",
        "                                 '2021-04-01 11:01:00','2021-04-01 11:50:00',\n",
        "                                 '2021-04-01 12:10:00']})"
      ],
      "execution_count": null,
      "outputs": []
    },
    {
      "cell_type": "code",
      "metadata": {
        "id": "i3uH3tIJ8qTv"
      },
      "source": [
        "df = pd.concat([user1,user2,user3,user4])"
      ],
      "execution_count": null,
      "outputs": []
    },
    {
      "cell_type": "code",
      "metadata": {
        "colab": {
          "base_uri": "https://localhost:8080/",
          "height": 648
        },
        "id": "gv0uKFP78tro",
        "outputId": "45cbf73c-39c8-4cf3-eeb0-7fe1db646ae7"
      },
      "source": [
        "df"
      ],
      "execution_count": null,
      "outputs": [
        {
          "output_type": "execute_result",
          "data": {
            "text/html": [
              "<div>\n",
              "<style scoped>\n",
              "    .dataframe tbody tr th:only-of-type {\n",
              "        vertical-align: middle;\n",
              "    }\n",
              "\n",
              "    .dataframe tbody tr th {\n",
              "        vertical-align: top;\n",
              "    }\n",
              "\n",
              "    .dataframe thead th {\n",
              "        text-align: right;\n",
              "    }\n",
              "</style>\n",
              "<table border=\"1\" class=\"dataframe\">\n",
              "  <thead>\n",
              "    <tr style=\"text-align: right;\">\n",
              "      <th></th>\n",
              "      <th>event_type</th>\n",
              "      <th>uid</th>\n",
              "      <th>event_time</th>\n",
              "    </tr>\n",
              "  </thead>\n",
              "  <tbody>\n",
              "    <tr>\n",
              "      <th>0</th>\n",
              "      <td>tutorial_finished</td>\n",
              "      <td>1</td>\n",
              "      <td>2021-04-01 10:32:21</td>\n",
              "    </tr>\n",
              "    <tr>\n",
              "      <th>1</th>\n",
              "      <td>kiss_receive</td>\n",
              "      <td>1</td>\n",
              "      <td>2021-04-01 10:41:00</td>\n",
              "    </tr>\n",
              "    <tr>\n",
              "      <th>2</th>\n",
              "      <td>kiss_receive</td>\n",
              "      <td>1</td>\n",
              "      <td>2021-04-01 11:10:00</td>\n",
              "    </tr>\n",
              "    <tr>\n",
              "      <th>3</th>\n",
              "      <td>kiss_receive</td>\n",
              "      <td>1</td>\n",
              "      <td>2021-04-01 11:20:00</td>\n",
              "    </tr>\n",
              "    <tr>\n",
              "      <th>4</th>\n",
              "      <td>kiss_receive</td>\n",
              "      <td>1</td>\n",
              "      <td>2021-04-01 15:41:00</td>\n",
              "    </tr>\n",
              "    <tr>\n",
              "      <th>0</th>\n",
              "      <td>tutorial_finished</td>\n",
              "      <td>2</td>\n",
              "      <td>2021-04-01 10:32:21</td>\n",
              "    </tr>\n",
              "    <tr>\n",
              "      <th>1</th>\n",
              "      <td>kiss_receive</td>\n",
              "      <td>2</td>\n",
              "      <td>2021-04-01 10:36:00</td>\n",
              "    </tr>\n",
              "    <tr>\n",
              "      <th>2</th>\n",
              "      <td>kiss_receive</td>\n",
              "      <td>2</td>\n",
              "      <td>2021-04-01 11:01:00</td>\n",
              "    </tr>\n",
              "    <tr>\n",
              "      <th>3</th>\n",
              "      <td>kiss_receive</td>\n",
              "      <td>2</td>\n",
              "      <td>2021-04-01 11:30:00</td>\n",
              "    </tr>\n",
              "    <tr>\n",
              "      <th>4</th>\n",
              "      <td>kiss_receive</td>\n",
              "      <td>2</td>\n",
              "      <td>2021-04-01 15:40:00</td>\n",
              "    </tr>\n",
              "    <tr>\n",
              "      <th>0</th>\n",
              "      <td>tutorial_finished</td>\n",
              "      <td>3</td>\n",
              "      <td>2021-04-01 10:32:21</td>\n",
              "    </tr>\n",
              "    <tr>\n",
              "      <th>1</th>\n",
              "      <td>kiss_receive</td>\n",
              "      <td>3</td>\n",
              "      <td>2021-04-01 10:36:00</td>\n",
              "    </tr>\n",
              "    <tr>\n",
              "      <th>2</th>\n",
              "      <td>kiss_receive</td>\n",
              "      <td>3</td>\n",
              "      <td>2021-04-01 11:01:00</td>\n",
              "    </tr>\n",
              "    <tr>\n",
              "      <th>3</th>\n",
              "      <td>kiss_receive</td>\n",
              "      <td>3</td>\n",
              "      <td>2021-04-01 11:50:00</td>\n",
              "    </tr>\n",
              "    <tr>\n",
              "      <th>4</th>\n",
              "      <td>kiss_receive</td>\n",
              "      <td>3</td>\n",
              "      <td>2021-04-01 12:10:00</td>\n",
              "    </tr>\n",
              "    <tr>\n",
              "      <th>0</th>\n",
              "      <td>kiss_receive</td>\n",
              "      <td>4</td>\n",
              "      <td>2021-04-01 10:32:21</td>\n",
              "    </tr>\n",
              "    <tr>\n",
              "      <th>1</th>\n",
              "      <td>kiss_receive</td>\n",
              "      <td>4</td>\n",
              "      <td>2021-04-01 10:36:00</td>\n",
              "    </tr>\n",
              "    <tr>\n",
              "      <th>2</th>\n",
              "      <td>kiss_receive</td>\n",
              "      <td>4</td>\n",
              "      <td>2021-04-01 11:01:00</td>\n",
              "    </tr>\n",
              "    <tr>\n",
              "      <th>3</th>\n",
              "      <td>kiss_receive</td>\n",
              "      <td>4</td>\n",
              "      <td>2021-04-01 11:50:00</td>\n",
              "    </tr>\n",
              "    <tr>\n",
              "      <th>4</th>\n",
              "      <td>kiss_receive</td>\n",
              "      <td>4</td>\n",
              "      <td>2021-04-01 12:10:00</td>\n",
              "    </tr>\n",
              "  </tbody>\n",
              "</table>\n",
              "</div>"
            ],
            "text/plain": [
              "          event_type  uid           event_time\n",
              "0  tutorial_finished    1  2021-04-01 10:32:21\n",
              "1       kiss_receive    1  2021-04-01 10:41:00\n",
              "2       kiss_receive    1  2021-04-01 11:10:00\n",
              "3       kiss_receive    1  2021-04-01 11:20:00\n",
              "4       kiss_receive    1  2021-04-01 15:41:00\n",
              "0  tutorial_finished    2  2021-04-01 10:32:21\n",
              "1       kiss_receive    2  2021-04-01 10:36:00\n",
              "2       kiss_receive    2  2021-04-01 11:01:00\n",
              "3       kiss_receive    2  2021-04-01 11:30:00\n",
              "4       kiss_receive    2  2021-04-01 15:40:00\n",
              "0  tutorial_finished    3  2021-04-01 10:32:21\n",
              "1       kiss_receive    3  2021-04-01 10:36:00\n",
              "2       kiss_receive    3  2021-04-01 11:01:00\n",
              "3       kiss_receive    3  2021-04-01 11:50:00\n",
              "4       kiss_receive    3  2021-04-01 12:10:00\n",
              "0       kiss_receive    4  2021-04-01 10:32:21\n",
              "1       kiss_receive    4  2021-04-01 10:36:00\n",
              "2       kiss_receive    4  2021-04-01 11:01:00\n",
              "3       kiss_receive    4  2021-04-01 11:50:00\n",
              "4       kiss_receive    4  2021-04-01 12:10:00"
            ]
          },
          "metadata": {
            "tags": []
          },
          "execution_count": 109
        }
      ]
    },
    {
      "cell_type": "code",
      "metadata": {
        "id": "K_NzkDvo48SX"
      },
      "source": [
        "df['event_time'] = pd.to_datetime(df['event_time'],format='%Y-%m-%d %H:%M:%S')"
      ],
      "execution_count": null,
      "outputs": []
    },
    {
      "cell_type": "code",
      "metadata": {
        "colab": {
          "base_uri": "https://localhost:8080/",
          "height": 648
        },
        "id": "4NDHzFKL4fPu",
        "outputId": "3b5b4a4c-f51a-4e61-a5c4-88e203518a7d"
      },
      "source": [
        "df"
      ],
      "execution_count": null,
      "outputs": [
        {
          "output_type": "execute_result",
          "data": {
            "text/html": [
              "<div>\n",
              "<style scoped>\n",
              "    .dataframe tbody tr th:only-of-type {\n",
              "        vertical-align: middle;\n",
              "    }\n",
              "\n",
              "    .dataframe tbody tr th {\n",
              "        vertical-align: top;\n",
              "    }\n",
              "\n",
              "    .dataframe thead th {\n",
              "        text-align: right;\n",
              "    }\n",
              "</style>\n",
              "<table border=\"1\" class=\"dataframe\">\n",
              "  <thead>\n",
              "    <tr style=\"text-align: right;\">\n",
              "      <th></th>\n",
              "      <th>event_type</th>\n",
              "      <th>uid</th>\n",
              "      <th>event_time</th>\n",
              "    </tr>\n",
              "  </thead>\n",
              "  <tbody>\n",
              "    <tr>\n",
              "      <th>0</th>\n",
              "      <td>tutorial_finished</td>\n",
              "      <td>1</td>\n",
              "      <td>2021-04-01 10:32:21</td>\n",
              "    </tr>\n",
              "    <tr>\n",
              "      <th>1</th>\n",
              "      <td>kiss_receive</td>\n",
              "      <td>1</td>\n",
              "      <td>2021-04-01 10:41:00</td>\n",
              "    </tr>\n",
              "    <tr>\n",
              "      <th>2</th>\n",
              "      <td>kiss_receive</td>\n",
              "      <td>1</td>\n",
              "      <td>2021-04-01 11:10:00</td>\n",
              "    </tr>\n",
              "    <tr>\n",
              "      <th>3</th>\n",
              "      <td>kiss_receive</td>\n",
              "      <td>1</td>\n",
              "      <td>2021-04-01 11:20:00</td>\n",
              "    </tr>\n",
              "    <tr>\n",
              "      <th>4</th>\n",
              "      <td>kiss_receive</td>\n",
              "      <td>1</td>\n",
              "      <td>2021-04-01 15:41:00</td>\n",
              "    </tr>\n",
              "    <tr>\n",
              "      <th>0</th>\n",
              "      <td>tutorial_finished</td>\n",
              "      <td>2</td>\n",
              "      <td>2021-04-01 10:32:21</td>\n",
              "    </tr>\n",
              "    <tr>\n",
              "      <th>1</th>\n",
              "      <td>kiss_receive</td>\n",
              "      <td>2</td>\n",
              "      <td>2021-04-01 10:36:00</td>\n",
              "    </tr>\n",
              "    <tr>\n",
              "      <th>2</th>\n",
              "      <td>kiss_receive</td>\n",
              "      <td>2</td>\n",
              "      <td>2021-04-01 11:01:00</td>\n",
              "    </tr>\n",
              "    <tr>\n",
              "      <th>3</th>\n",
              "      <td>kiss_receive</td>\n",
              "      <td>2</td>\n",
              "      <td>2021-04-01 11:30:00</td>\n",
              "    </tr>\n",
              "    <tr>\n",
              "      <th>4</th>\n",
              "      <td>kiss_receive</td>\n",
              "      <td>2</td>\n",
              "      <td>2021-04-01 15:40:00</td>\n",
              "    </tr>\n",
              "    <tr>\n",
              "      <th>0</th>\n",
              "      <td>tutorial_finished</td>\n",
              "      <td>3</td>\n",
              "      <td>2021-04-01 10:32:21</td>\n",
              "    </tr>\n",
              "    <tr>\n",
              "      <th>1</th>\n",
              "      <td>kiss_receive</td>\n",
              "      <td>3</td>\n",
              "      <td>2021-04-01 10:36:00</td>\n",
              "    </tr>\n",
              "    <tr>\n",
              "      <th>2</th>\n",
              "      <td>kiss_receive</td>\n",
              "      <td>3</td>\n",
              "      <td>2021-04-01 11:01:00</td>\n",
              "    </tr>\n",
              "    <tr>\n",
              "      <th>3</th>\n",
              "      <td>kiss_receive</td>\n",
              "      <td>3</td>\n",
              "      <td>2021-04-01 11:50:00</td>\n",
              "    </tr>\n",
              "    <tr>\n",
              "      <th>4</th>\n",
              "      <td>kiss_receive</td>\n",
              "      <td>3</td>\n",
              "      <td>2021-04-01 12:10:00</td>\n",
              "    </tr>\n",
              "    <tr>\n",
              "      <th>0</th>\n",
              "      <td>kiss_receive</td>\n",
              "      <td>4</td>\n",
              "      <td>2021-04-01 10:32:21</td>\n",
              "    </tr>\n",
              "    <tr>\n",
              "      <th>1</th>\n",
              "      <td>kiss_receive</td>\n",
              "      <td>4</td>\n",
              "      <td>2021-04-01 10:36:00</td>\n",
              "    </tr>\n",
              "    <tr>\n",
              "      <th>2</th>\n",
              "      <td>kiss_receive</td>\n",
              "      <td>4</td>\n",
              "      <td>2021-04-01 11:01:00</td>\n",
              "    </tr>\n",
              "    <tr>\n",
              "      <th>3</th>\n",
              "      <td>kiss_receive</td>\n",
              "      <td>4</td>\n",
              "      <td>2021-04-01 11:50:00</td>\n",
              "    </tr>\n",
              "    <tr>\n",
              "      <th>4</th>\n",
              "      <td>kiss_receive</td>\n",
              "      <td>4</td>\n",
              "      <td>2021-04-01 12:10:00</td>\n",
              "    </tr>\n",
              "  </tbody>\n",
              "</table>\n",
              "</div>"
            ],
            "text/plain": [
              "          event_type  uid          event_time\n",
              "0  tutorial_finished    1 2021-04-01 10:32:21\n",
              "1       kiss_receive    1 2021-04-01 10:41:00\n",
              "2       kiss_receive    1 2021-04-01 11:10:00\n",
              "3       kiss_receive    1 2021-04-01 11:20:00\n",
              "4       kiss_receive    1 2021-04-01 15:41:00\n",
              "0  tutorial_finished    2 2021-04-01 10:32:21\n",
              "1       kiss_receive    2 2021-04-01 10:36:00\n",
              "2       kiss_receive    2 2021-04-01 11:01:00\n",
              "3       kiss_receive    2 2021-04-01 11:30:00\n",
              "4       kiss_receive    2 2021-04-01 15:40:00\n",
              "0  tutorial_finished    3 2021-04-01 10:32:21\n",
              "1       kiss_receive    3 2021-04-01 10:36:00\n",
              "2       kiss_receive    3 2021-04-01 11:01:00\n",
              "3       kiss_receive    3 2021-04-01 11:50:00\n",
              "4       kiss_receive    3 2021-04-01 12:10:00\n",
              "0       kiss_receive    4 2021-04-01 10:32:21\n",
              "1       kiss_receive    4 2021-04-01 10:36:00\n",
              "2       kiss_receive    4 2021-04-01 11:01:00\n",
              "3       kiss_receive    4 2021-04-01 11:50:00\n",
              "4       kiss_receive    4 2021-04-01 12:10:00"
            ]
          },
          "metadata": {
            "tags": []
          },
          "execution_count": 111
        }
      ]
    },
    {
      "cell_type": "code",
      "metadata": {
        "colab": {
          "base_uri": "https://localhost:8080/"
        },
        "id": "jNqDkSnA4rWf",
        "outputId": "4248443c-2326-4d34-c474-06cd53b5ac5e"
      },
      "source": [
        "df.dtypes"
      ],
      "execution_count": null,
      "outputs": [
        {
          "output_type": "execute_result",
          "data": {
            "text/plain": [
              "event_type            object\n",
              "uid                    int64\n",
              "event_time    datetime64[ns]\n",
              "dtype: object"
            ]
          },
          "metadata": {
            "tags": []
          },
          "execution_count": 112
        }
      ]
    },
    {
      "cell_type": "code",
      "metadata": {
        "colab": {
          "base_uri": "https://localhost:8080/"
        },
        "id": "EYTHpVri5IM-",
        "outputId": "f04105b4-2126-43ef-c3bc-1afeb9dc6c24"
      },
      "source": [
        "client.execute('DROP TABLE IF EXISTS events')\n",
        "client.execute('''CREATE TABLE events\n",
        "(event_type String, uid Int32, event_time DateTime)\n",
        "ENGINE = Memory''')"
      ],
      "execution_count": null,
      "outputs": [
        {
          "output_type": "execute_result",
          "data": {
            "text/plain": [
              "[]"
            ]
          },
          "metadata": {
            "tags": []
          },
          "execution_count": 113
        }
      ]
    },
    {
      "cell_type": "code",
      "metadata": {
        "colab": {
          "base_uri": "https://localhost:8080/",
          "height": 648
        },
        "id": "9wJDMQlw6W6h",
        "outputId": "e7e7aa14-7571-47eb-c539-c3fe688f9369"
      },
      "source": [
        "df"
      ],
      "execution_count": null,
      "outputs": [
        {
          "output_type": "execute_result",
          "data": {
            "text/html": [
              "<div>\n",
              "<style scoped>\n",
              "    .dataframe tbody tr th:only-of-type {\n",
              "        vertical-align: middle;\n",
              "    }\n",
              "\n",
              "    .dataframe tbody tr th {\n",
              "        vertical-align: top;\n",
              "    }\n",
              "\n",
              "    .dataframe thead th {\n",
              "        text-align: right;\n",
              "    }\n",
              "</style>\n",
              "<table border=\"1\" class=\"dataframe\">\n",
              "  <thead>\n",
              "    <tr style=\"text-align: right;\">\n",
              "      <th></th>\n",
              "      <th>event_type</th>\n",
              "      <th>uid</th>\n",
              "      <th>event_time</th>\n",
              "    </tr>\n",
              "  </thead>\n",
              "  <tbody>\n",
              "    <tr>\n",
              "      <th>0</th>\n",
              "      <td>tutorial_finished</td>\n",
              "      <td>1</td>\n",
              "      <td>2021-04-01 10:32:21</td>\n",
              "    </tr>\n",
              "    <tr>\n",
              "      <th>1</th>\n",
              "      <td>kiss_receive</td>\n",
              "      <td>1</td>\n",
              "      <td>2021-04-01 10:41:00</td>\n",
              "    </tr>\n",
              "    <tr>\n",
              "      <th>2</th>\n",
              "      <td>kiss_receive</td>\n",
              "      <td>1</td>\n",
              "      <td>2021-04-01 11:10:00</td>\n",
              "    </tr>\n",
              "    <tr>\n",
              "      <th>3</th>\n",
              "      <td>kiss_receive</td>\n",
              "      <td>1</td>\n",
              "      <td>2021-04-01 11:20:00</td>\n",
              "    </tr>\n",
              "    <tr>\n",
              "      <th>4</th>\n",
              "      <td>kiss_receive</td>\n",
              "      <td>1</td>\n",
              "      <td>2021-04-01 15:41:00</td>\n",
              "    </tr>\n",
              "    <tr>\n",
              "      <th>0</th>\n",
              "      <td>tutorial_finished</td>\n",
              "      <td>2</td>\n",
              "      <td>2021-04-01 10:32:21</td>\n",
              "    </tr>\n",
              "    <tr>\n",
              "      <th>1</th>\n",
              "      <td>kiss_receive</td>\n",
              "      <td>2</td>\n",
              "      <td>2021-04-01 10:36:00</td>\n",
              "    </tr>\n",
              "    <tr>\n",
              "      <th>2</th>\n",
              "      <td>kiss_receive</td>\n",
              "      <td>2</td>\n",
              "      <td>2021-04-01 11:01:00</td>\n",
              "    </tr>\n",
              "    <tr>\n",
              "      <th>3</th>\n",
              "      <td>kiss_receive</td>\n",
              "      <td>2</td>\n",
              "      <td>2021-04-01 11:30:00</td>\n",
              "    </tr>\n",
              "    <tr>\n",
              "      <th>4</th>\n",
              "      <td>kiss_receive</td>\n",
              "      <td>2</td>\n",
              "      <td>2021-04-01 15:40:00</td>\n",
              "    </tr>\n",
              "    <tr>\n",
              "      <th>0</th>\n",
              "      <td>tutorial_finished</td>\n",
              "      <td>3</td>\n",
              "      <td>2021-04-01 10:32:21</td>\n",
              "    </tr>\n",
              "    <tr>\n",
              "      <th>1</th>\n",
              "      <td>kiss_receive</td>\n",
              "      <td>3</td>\n",
              "      <td>2021-04-01 10:36:00</td>\n",
              "    </tr>\n",
              "    <tr>\n",
              "      <th>2</th>\n",
              "      <td>kiss_receive</td>\n",
              "      <td>3</td>\n",
              "      <td>2021-04-01 11:01:00</td>\n",
              "    </tr>\n",
              "    <tr>\n",
              "      <th>3</th>\n",
              "      <td>kiss_receive</td>\n",
              "      <td>3</td>\n",
              "      <td>2021-04-01 11:50:00</td>\n",
              "    </tr>\n",
              "    <tr>\n",
              "      <th>4</th>\n",
              "      <td>kiss_receive</td>\n",
              "      <td>3</td>\n",
              "      <td>2021-04-01 12:10:00</td>\n",
              "    </tr>\n",
              "    <tr>\n",
              "      <th>0</th>\n",
              "      <td>kiss_receive</td>\n",
              "      <td>4</td>\n",
              "      <td>2021-04-01 10:32:21</td>\n",
              "    </tr>\n",
              "    <tr>\n",
              "      <th>1</th>\n",
              "      <td>kiss_receive</td>\n",
              "      <td>4</td>\n",
              "      <td>2021-04-01 10:36:00</td>\n",
              "    </tr>\n",
              "    <tr>\n",
              "      <th>2</th>\n",
              "      <td>kiss_receive</td>\n",
              "      <td>4</td>\n",
              "      <td>2021-04-01 11:01:00</td>\n",
              "    </tr>\n",
              "    <tr>\n",
              "      <th>3</th>\n",
              "      <td>kiss_receive</td>\n",
              "      <td>4</td>\n",
              "      <td>2021-04-01 11:50:00</td>\n",
              "    </tr>\n",
              "    <tr>\n",
              "      <th>4</th>\n",
              "      <td>kiss_receive</td>\n",
              "      <td>4</td>\n",
              "      <td>2021-04-01 12:10:00</td>\n",
              "    </tr>\n",
              "  </tbody>\n",
              "</table>\n",
              "</div>"
            ],
            "text/plain": [
              "          event_type  uid          event_time\n",
              "0  tutorial_finished    1 2021-04-01 10:32:21\n",
              "1       kiss_receive    1 2021-04-01 10:41:00\n",
              "2       kiss_receive    1 2021-04-01 11:10:00\n",
              "3       kiss_receive    1 2021-04-01 11:20:00\n",
              "4       kiss_receive    1 2021-04-01 15:41:00\n",
              "0  tutorial_finished    2 2021-04-01 10:32:21\n",
              "1       kiss_receive    2 2021-04-01 10:36:00\n",
              "2       kiss_receive    2 2021-04-01 11:01:00\n",
              "3       kiss_receive    2 2021-04-01 11:30:00\n",
              "4       kiss_receive    2 2021-04-01 15:40:00\n",
              "0  tutorial_finished    3 2021-04-01 10:32:21\n",
              "1       kiss_receive    3 2021-04-01 10:36:00\n",
              "2       kiss_receive    3 2021-04-01 11:01:00\n",
              "3       kiss_receive    3 2021-04-01 11:50:00\n",
              "4       kiss_receive    3 2021-04-01 12:10:00\n",
              "0       kiss_receive    4 2021-04-01 10:32:21\n",
              "1       kiss_receive    4 2021-04-01 10:36:00\n",
              "2       kiss_receive    4 2021-04-01 11:01:00\n",
              "3       kiss_receive    4 2021-04-01 11:50:00\n",
              "4       kiss_receive    4 2021-04-01 12:10:00"
            ]
          },
          "metadata": {
            "tags": []
          },
          "execution_count": 114
        }
      ]
    },
    {
      "cell_type": "code",
      "metadata": {
        "colab": {
          "base_uri": "https://localhost:8080/"
        },
        "id": "2K4zoRZj53xK",
        "outputId": "b2cd0536-af8b-45f1-db5f-5d84adc98a9d"
      },
      "source": [
        "client.execute(\"INSERT INTO events VALUES\", df.to_dict('records'))"
      ],
      "execution_count": null,
      "outputs": [
        {
          "output_type": "execute_result",
          "data": {
            "text/plain": [
              "20"
            ]
          },
          "metadata": {
            "tags": []
          },
          "execution_count": 115
        }
      ]
    },
    {
      "cell_type": "code",
      "metadata": {
        "id": "WPCQve9vCVpb"
      },
      "source": [],
      "execution_count": null,
      "outputs": []
    },
    {
      "cell_type": "code",
      "metadata": {
        "id": "SieTE2n1DRe9"
      },
      "source": [
        "sql = '''select t.event_type, t.uid, t.event_time, e.event_time from events t\n",
        "left join events e on t.uid = e.uid\n",
        "where\n",
        "--e.event_time < t.event_time and\n",
        "t.uid = 1\n",
        "\n",
        "order by t.uid, t.event_time\n",
        "\n",
        "'''"
      ],
      "execution_count": null,
      "outputs": []
    },
    {
      "cell_type": "code",
      "metadata": {
        "colab": {
          "base_uri": "https://localhost:8080/",
          "height": 798
        },
        "id": "KOk9UO3rDWre",
        "outputId": "d0d2b087-0692-4796-f09e-33811915a88b"
      },
      "source": [
        "select(sql)"
      ],
      "execution_count": null,
      "outputs": [
        {
          "output_type": "execute_result",
          "data": {
            "text/html": [
              "<div>\n",
              "<style scoped>\n",
              "    .dataframe tbody tr th:only-of-type {\n",
              "        vertical-align: middle;\n",
              "    }\n",
              "\n",
              "    .dataframe tbody tr th {\n",
              "        vertical-align: top;\n",
              "    }\n",
              "\n",
              "    .dataframe thead th {\n",
              "        text-align: right;\n",
              "    }\n",
              "</style>\n",
              "<table border=\"1\" class=\"dataframe\">\n",
              "  <thead>\n",
              "    <tr style=\"text-align: right;\">\n",
              "      <th></th>\n",
              "      <th>event_type</th>\n",
              "      <th>uid</th>\n",
              "      <th>event_time</th>\n",
              "      <th>e_event_time</th>\n",
              "    </tr>\n",
              "  </thead>\n",
              "  <tbody>\n",
              "    <tr>\n",
              "      <th>0</th>\n",
              "      <td>tutorial_finished</td>\n",
              "      <td>1</td>\n",
              "      <td>2021-04-01 10:32:21</td>\n",
              "      <td>2021-04-01 10:41:00</td>\n",
              "    </tr>\n",
              "    <tr>\n",
              "      <th>1</th>\n",
              "      <td>tutorial_finished</td>\n",
              "      <td>1</td>\n",
              "      <td>2021-04-01 10:32:21</td>\n",
              "      <td>2021-04-01 10:32:21</td>\n",
              "    </tr>\n",
              "    <tr>\n",
              "      <th>2</th>\n",
              "      <td>tutorial_finished</td>\n",
              "      <td>1</td>\n",
              "      <td>2021-04-01 10:32:21</td>\n",
              "      <td>2021-04-01 11:10:00</td>\n",
              "    </tr>\n",
              "    <tr>\n",
              "      <th>3</th>\n",
              "      <td>tutorial_finished</td>\n",
              "      <td>1</td>\n",
              "      <td>2021-04-01 10:32:21</td>\n",
              "      <td>2021-04-01 11:20:00</td>\n",
              "    </tr>\n",
              "    <tr>\n",
              "      <th>4</th>\n",
              "      <td>tutorial_finished</td>\n",
              "      <td>1</td>\n",
              "      <td>2021-04-01 10:32:21</td>\n",
              "      <td>2021-04-01 15:41:00</td>\n",
              "    </tr>\n",
              "    <tr>\n",
              "      <th>5</th>\n",
              "      <td>kiss_receive</td>\n",
              "      <td>1</td>\n",
              "      <td>2021-04-01 10:41:00</td>\n",
              "      <td>2021-04-01 11:10:00</td>\n",
              "    </tr>\n",
              "    <tr>\n",
              "      <th>6</th>\n",
              "      <td>kiss_receive</td>\n",
              "      <td>1</td>\n",
              "      <td>2021-04-01 10:41:00</td>\n",
              "      <td>2021-04-01 10:41:00</td>\n",
              "    </tr>\n",
              "    <tr>\n",
              "      <th>7</th>\n",
              "      <td>kiss_receive</td>\n",
              "      <td>1</td>\n",
              "      <td>2021-04-01 10:41:00</td>\n",
              "      <td>2021-04-01 10:32:21</td>\n",
              "    </tr>\n",
              "    <tr>\n",
              "      <th>8</th>\n",
              "      <td>kiss_receive</td>\n",
              "      <td>1</td>\n",
              "      <td>2021-04-01 10:41:00</td>\n",
              "      <td>2021-04-01 11:20:00</td>\n",
              "    </tr>\n",
              "    <tr>\n",
              "      <th>9</th>\n",
              "      <td>kiss_receive</td>\n",
              "      <td>1</td>\n",
              "      <td>2021-04-01 10:41:00</td>\n",
              "      <td>2021-04-01 15:41:00</td>\n",
              "    </tr>\n",
              "    <tr>\n",
              "      <th>10</th>\n",
              "      <td>kiss_receive</td>\n",
              "      <td>1</td>\n",
              "      <td>2021-04-01 11:10:00</td>\n",
              "      <td>2021-04-01 10:32:21</td>\n",
              "    </tr>\n",
              "    <tr>\n",
              "      <th>11</th>\n",
              "      <td>kiss_receive</td>\n",
              "      <td>1</td>\n",
              "      <td>2021-04-01 11:10:00</td>\n",
              "      <td>2021-04-01 10:41:00</td>\n",
              "    </tr>\n",
              "    <tr>\n",
              "      <th>12</th>\n",
              "      <td>kiss_receive</td>\n",
              "      <td>1</td>\n",
              "      <td>2021-04-01 11:10:00</td>\n",
              "      <td>2021-04-01 11:20:00</td>\n",
              "    </tr>\n",
              "    <tr>\n",
              "      <th>13</th>\n",
              "      <td>kiss_receive</td>\n",
              "      <td>1</td>\n",
              "      <td>2021-04-01 11:10:00</td>\n",
              "      <td>2021-04-01 15:41:00</td>\n",
              "    </tr>\n",
              "    <tr>\n",
              "      <th>14</th>\n",
              "      <td>kiss_receive</td>\n",
              "      <td>1</td>\n",
              "      <td>2021-04-01 11:10:00</td>\n",
              "      <td>2021-04-01 11:10:00</td>\n",
              "    </tr>\n",
              "    <tr>\n",
              "      <th>15</th>\n",
              "      <td>kiss_receive</td>\n",
              "      <td>1</td>\n",
              "      <td>2021-04-01 11:20:00</td>\n",
              "      <td>2021-04-01 15:41:00</td>\n",
              "    </tr>\n",
              "    <tr>\n",
              "      <th>16</th>\n",
              "      <td>kiss_receive</td>\n",
              "      <td>1</td>\n",
              "      <td>2021-04-01 11:20:00</td>\n",
              "      <td>2021-04-01 10:32:21</td>\n",
              "    </tr>\n",
              "    <tr>\n",
              "      <th>17</th>\n",
              "      <td>kiss_receive</td>\n",
              "      <td>1</td>\n",
              "      <td>2021-04-01 11:20:00</td>\n",
              "      <td>2021-04-01 10:41:00</td>\n",
              "    </tr>\n",
              "    <tr>\n",
              "      <th>18</th>\n",
              "      <td>kiss_receive</td>\n",
              "      <td>1</td>\n",
              "      <td>2021-04-01 11:20:00</td>\n",
              "      <td>2021-04-01 11:10:00</td>\n",
              "    </tr>\n",
              "    <tr>\n",
              "      <th>19</th>\n",
              "      <td>kiss_receive</td>\n",
              "      <td>1</td>\n",
              "      <td>2021-04-01 11:20:00</td>\n",
              "      <td>2021-04-01 11:20:00</td>\n",
              "    </tr>\n",
              "    <tr>\n",
              "      <th>20</th>\n",
              "      <td>kiss_receive</td>\n",
              "      <td>1</td>\n",
              "      <td>2021-04-01 15:41:00</td>\n",
              "      <td>2021-04-01 15:41:00</td>\n",
              "    </tr>\n",
              "    <tr>\n",
              "      <th>21</th>\n",
              "      <td>kiss_receive</td>\n",
              "      <td>1</td>\n",
              "      <td>2021-04-01 15:41:00</td>\n",
              "      <td>2021-04-01 10:32:21</td>\n",
              "    </tr>\n",
              "    <tr>\n",
              "      <th>22</th>\n",
              "      <td>kiss_receive</td>\n",
              "      <td>1</td>\n",
              "      <td>2021-04-01 15:41:00</td>\n",
              "      <td>2021-04-01 10:41:00</td>\n",
              "    </tr>\n",
              "    <tr>\n",
              "      <th>23</th>\n",
              "      <td>kiss_receive</td>\n",
              "      <td>1</td>\n",
              "      <td>2021-04-01 15:41:00</td>\n",
              "      <td>2021-04-01 11:10:00</td>\n",
              "    </tr>\n",
              "    <tr>\n",
              "      <th>24</th>\n",
              "      <td>kiss_receive</td>\n",
              "      <td>1</td>\n",
              "      <td>2021-04-01 15:41:00</td>\n",
              "      <td>2021-04-01 11:20:00</td>\n",
              "    </tr>\n",
              "  </tbody>\n",
              "</table>\n",
              "</div>"
            ],
            "text/plain": [
              "           event_type  uid          event_time        e_event_time\n",
              "0   tutorial_finished    1 2021-04-01 10:32:21 2021-04-01 10:41:00\n",
              "1   tutorial_finished    1 2021-04-01 10:32:21 2021-04-01 10:32:21\n",
              "2   tutorial_finished    1 2021-04-01 10:32:21 2021-04-01 11:10:00\n",
              "3   tutorial_finished    1 2021-04-01 10:32:21 2021-04-01 11:20:00\n",
              "4   tutorial_finished    1 2021-04-01 10:32:21 2021-04-01 15:41:00\n",
              "5        kiss_receive    1 2021-04-01 10:41:00 2021-04-01 11:10:00\n",
              "6        kiss_receive    1 2021-04-01 10:41:00 2021-04-01 10:41:00\n",
              "7        kiss_receive    1 2021-04-01 10:41:00 2021-04-01 10:32:21\n",
              "8        kiss_receive    1 2021-04-01 10:41:00 2021-04-01 11:20:00\n",
              "9        kiss_receive    1 2021-04-01 10:41:00 2021-04-01 15:41:00\n",
              "10       kiss_receive    1 2021-04-01 11:10:00 2021-04-01 10:32:21\n",
              "11       kiss_receive    1 2021-04-01 11:10:00 2021-04-01 10:41:00\n",
              "12       kiss_receive    1 2021-04-01 11:10:00 2021-04-01 11:20:00\n",
              "13       kiss_receive    1 2021-04-01 11:10:00 2021-04-01 15:41:00\n",
              "14       kiss_receive    1 2021-04-01 11:10:00 2021-04-01 11:10:00\n",
              "15       kiss_receive    1 2021-04-01 11:20:00 2021-04-01 15:41:00\n",
              "16       kiss_receive    1 2021-04-01 11:20:00 2021-04-01 10:32:21\n",
              "17       kiss_receive    1 2021-04-01 11:20:00 2021-04-01 10:41:00\n",
              "18       kiss_receive    1 2021-04-01 11:20:00 2021-04-01 11:10:00\n",
              "19       kiss_receive    1 2021-04-01 11:20:00 2021-04-01 11:20:00\n",
              "20       kiss_receive    1 2021-04-01 15:41:00 2021-04-01 15:41:00\n",
              "21       kiss_receive    1 2021-04-01 15:41:00 2021-04-01 10:32:21\n",
              "22       kiss_receive    1 2021-04-01 15:41:00 2021-04-01 10:41:00\n",
              "23       kiss_receive    1 2021-04-01 15:41:00 2021-04-01 11:10:00\n",
              "24       kiss_receive    1 2021-04-01 15:41:00 2021-04-01 11:20:00"
            ]
          },
          "metadata": {
            "tags": []
          },
          "execution_count": 158
        }
      ]
    },
    {
      "cell_type": "code",
      "metadata": {
        "id": "bIaJtG4J6Xby"
      },
      "source": [
        "sql = '''select t.event_type, t.uid, t.event_time, max(e.event_time) as event_time_prev from events t\n",
        "left join events e on t.uid = e.uid\n",
        "-- where e.event_time is null or e.event_time < t.event_time\n",
        "group by t.event_type, t.uid, t.event_time\n",
        "order by t.uid, t.event_time\n",
        "'''"
      ],
      "execution_count": null,
      "outputs": []
    },
    {
      "cell_type": "code",
      "metadata": {
        "colab": {
          "base_uri": "https://localhost:8080/",
          "height": 648
        },
        "id": "8wuSgz5FCnEX",
        "outputId": "517fe350-b395-422e-be81-ee9ae09ac474"
      },
      "source": [
        "select(sql)"
      ],
      "execution_count": null,
      "outputs": [
        {
          "output_type": "execute_result",
          "data": {
            "text/html": [
              "<div>\n",
              "<style scoped>\n",
              "    .dataframe tbody tr th:only-of-type {\n",
              "        vertical-align: middle;\n",
              "    }\n",
              "\n",
              "    .dataframe tbody tr th {\n",
              "        vertical-align: top;\n",
              "    }\n",
              "\n",
              "    .dataframe thead th {\n",
              "        text-align: right;\n",
              "    }\n",
              "</style>\n",
              "<table border=\"1\" class=\"dataframe\">\n",
              "  <thead>\n",
              "    <tr style=\"text-align: right;\">\n",
              "      <th></th>\n",
              "      <th>event_type</th>\n",
              "      <th>uid</th>\n",
              "      <th>event_time</th>\n",
              "      <th>event_time_prev</th>\n",
              "    </tr>\n",
              "  </thead>\n",
              "  <tbody>\n",
              "    <tr>\n",
              "      <th>0</th>\n",
              "      <td>tutorial_finished</td>\n",
              "      <td>1</td>\n",
              "      <td>2021-04-01 10:32:21</td>\n",
              "      <td>2021-04-01 15:41:00</td>\n",
              "    </tr>\n",
              "    <tr>\n",
              "      <th>1</th>\n",
              "      <td>kiss_receive</td>\n",
              "      <td>1</td>\n",
              "      <td>2021-04-01 10:41:00</td>\n",
              "      <td>2021-04-01 15:41:00</td>\n",
              "    </tr>\n",
              "    <tr>\n",
              "      <th>2</th>\n",
              "      <td>kiss_receive</td>\n",
              "      <td>1</td>\n",
              "      <td>2021-04-01 11:10:00</td>\n",
              "      <td>2021-04-01 15:41:00</td>\n",
              "    </tr>\n",
              "    <tr>\n",
              "      <th>3</th>\n",
              "      <td>kiss_receive</td>\n",
              "      <td>1</td>\n",
              "      <td>2021-04-01 11:20:00</td>\n",
              "      <td>2021-04-01 15:41:00</td>\n",
              "    </tr>\n",
              "    <tr>\n",
              "      <th>4</th>\n",
              "      <td>kiss_receive</td>\n",
              "      <td>1</td>\n",
              "      <td>2021-04-01 15:41:00</td>\n",
              "      <td>2021-04-01 15:41:00</td>\n",
              "    </tr>\n",
              "    <tr>\n",
              "      <th>5</th>\n",
              "      <td>tutorial_finished</td>\n",
              "      <td>2</td>\n",
              "      <td>2021-04-01 10:32:21</td>\n",
              "      <td>2021-04-01 15:40:00</td>\n",
              "    </tr>\n",
              "    <tr>\n",
              "      <th>6</th>\n",
              "      <td>kiss_receive</td>\n",
              "      <td>2</td>\n",
              "      <td>2021-04-01 10:36:00</td>\n",
              "      <td>2021-04-01 15:40:00</td>\n",
              "    </tr>\n",
              "    <tr>\n",
              "      <th>7</th>\n",
              "      <td>kiss_receive</td>\n",
              "      <td>2</td>\n",
              "      <td>2021-04-01 11:01:00</td>\n",
              "      <td>2021-04-01 15:40:00</td>\n",
              "    </tr>\n",
              "    <tr>\n",
              "      <th>8</th>\n",
              "      <td>kiss_receive</td>\n",
              "      <td>2</td>\n",
              "      <td>2021-04-01 11:30:00</td>\n",
              "      <td>2021-04-01 15:40:00</td>\n",
              "    </tr>\n",
              "    <tr>\n",
              "      <th>9</th>\n",
              "      <td>kiss_receive</td>\n",
              "      <td>2</td>\n",
              "      <td>2021-04-01 15:40:00</td>\n",
              "      <td>2021-04-01 15:40:00</td>\n",
              "    </tr>\n",
              "    <tr>\n",
              "      <th>10</th>\n",
              "      <td>tutorial_finished</td>\n",
              "      <td>3</td>\n",
              "      <td>2021-04-01 10:32:21</td>\n",
              "      <td>2021-04-01 12:10:00</td>\n",
              "    </tr>\n",
              "    <tr>\n",
              "      <th>11</th>\n",
              "      <td>kiss_receive</td>\n",
              "      <td>3</td>\n",
              "      <td>2021-04-01 10:36:00</td>\n",
              "      <td>2021-04-01 12:10:00</td>\n",
              "    </tr>\n",
              "    <tr>\n",
              "      <th>12</th>\n",
              "      <td>kiss_receive</td>\n",
              "      <td>3</td>\n",
              "      <td>2021-04-01 11:01:00</td>\n",
              "      <td>2021-04-01 12:10:00</td>\n",
              "    </tr>\n",
              "    <tr>\n",
              "      <th>13</th>\n",
              "      <td>kiss_receive</td>\n",
              "      <td>3</td>\n",
              "      <td>2021-04-01 11:50:00</td>\n",
              "      <td>2021-04-01 12:10:00</td>\n",
              "    </tr>\n",
              "    <tr>\n",
              "      <th>14</th>\n",
              "      <td>kiss_receive</td>\n",
              "      <td>3</td>\n",
              "      <td>2021-04-01 12:10:00</td>\n",
              "      <td>2021-04-01 12:10:00</td>\n",
              "    </tr>\n",
              "    <tr>\n",
              "      <th>15</th>\n",
              "      <td>kiss_receive</td>\n",
              "      <td>4</td>\n",
              "      <td>2021-04-01 10:32:21</td>\n",
              "      <td>2021-04-01 12:10:00</td>\n",
              "    </tr>\n",
              "    <tr>\n",
              "      <th>16</th>\n",
              "      <td>kiss_receive</td>\n",
              "      <td>4</td>\n",
              "      <td>2021-04-01 10:36:00</td>\n",
              "      <td>2021-04-01 12:10:00</td>\n",
              "    </tr>\n",
              "    <tr>\n",
              "      <th>17</th>\n",
              "      <td>kiss_receive</td>\n",
              "      <td>4</td>\n",
              "      <td>2021-04-01 11:01:00</td>\n",
              "      <td>2021-04-01 12:10:00</td>\n",
              "    </tr>\n",
              "    <tr>\n",
              "      <th>18</th>\n",
              "      <td>kiss_receive</td>\n",
              "      <td>4</td>\n",
              "      <td>2021-04-01 11:50:00</td>\n",
              "      <td>2021-04-01 12:10:00</td>\n",
              "    </tr>\n",
              "    <tr>\n",
              "      <th>19</th>\n",
              "      <td>kiss_receive</td>\n",
              "      <td>4</td>\n",
              "      <td>2021-04-01 12:10:00</td>\n",
              "      <td>2021-04-01 12:10:00</td>\n",
              "    </tr>\n",
              "  </tbody>\n",
              "</table>\n",
              "</div>"
            ],
            "text/plain": [
              "           event_type  uid          event_time     event_time_prev\n",
              "0   tutorial_finished    1 2021-04-01 10:32:21 2021-04-01 15:41:00\n",
              "1        kiss_receive    1 2021-04-01 10:41:00 2021-04-01 15:41:00\n",
              "2        kiss_receive    1 2021-04-01 11:10:00 2021-04-01 15:41:00\n",
              "3        kiss_receive    1 2021-04-01 11:20:00 2021-04-01 15:41:00\n",
              "4        kiss_receive    1 2021-04-01 15:41:00 2021-04-01 15:41:00\n",
              "5   tutorial_finished    2 2021-04-01 10:32:21 2021-04-01 15:40:00\n",
              "6        kiss_receive    2 2021-04-01 10:36:00 2021-04-01 15:40:00\n",
              "7        kiss_receive    2 2021-04-01 11:01:00 2021-04-01 15:40:00\n",
              "8        kiss_receive    2 2021-04-01 11:30:00 2021-04-01 15:40:00\n",
              "9        kiss_receive    2 2021-04-01 15:40:00 2021-04-01 15:40:00\n",
              "10  tutorial_finished    3 2021-04-01 10:32:21 2021-04-01 12:10:00\n",
              "11       kiss_receive    3 2021-04-01 10:36:00 2021-04-01 12:10:00\n",
              "12       kiss_receive    3 2021-04-01 11:01:00 2021-04-01 12:10:00\n",
              "13       kiss_receive    3 2021-04-01 11:50:00 2021-04-01 12:10:00\n",
              "14       kiss_receive    3 2021-04-01 12:10:00 2021-04-01 12:10:00\n",
              "15       kiss_receive    4 2021-04-01 10:32:21 2021-04-01 12:10:00\n",
              "16       kiss_receive    4 2021-04-01 10:36:00 2021-04-01 12:10:00\n",
              "17       kiss_receive    4 2021-04-01 11:01:00 2021-04-01 12:10:00\n",
              "18       kiss_receive    4 2021-04-01 11:50:00 2021-04-01 12:10:00\n",
              "19       kiss_receive    4 2021-04-01 12:10:00 2021-04-01 12:10:00"
            ]
          },
          "metadata": {
            "tags": []
          },
          "execution_count": 146
        }
      ]
    },
    {
      "cell_type": "code",
      "metadata": {
        "colab": {
          "base_uri": "https://localhost:8080/"
        },
        "id": "iY0LzFTR6ck9",
        "outputId": "c3b971d4-2069-4c0b-9040-cd022b564744"
      },
      "source": [
        "len(select(sql))"
      ],
      "execution_count": null,
      "outputs": [
        {
          "output_type": "execute_result",
          "data": {
            "text/plain": [
              "16"
            ]
          },
          "metadata": {
            "tags": []
          },
          "execution_count": 138
        }
      ]
    },
    {
      "cell_type": "code",
      "metadata": {
        "id": "Rqy5pIHS6dDT"
      },
      "source": [
        "sql = '''\n",
        "with events_prep as (\n",
        "\n",
        "select distinct 'dummy' as event_type , t.uid,\n",
        "toDateTime('1900-01-01 00:00:00') as event_time\n",
        "\n",
        "from events t\n",
        "\n",
        "union all\n",
        "\n",
        "select * from events t),\n",
        "\n",
        "events_lag as (\n",
        "\n",
        "select t.event_type, t.uid, t.event_time, max(e.event_time) as event_time_prev from events_prep t\n",
        "left join events_prep e on t.uid = e.uid\n",
        "where e.event_time < t.event_time\n",
        "group by t.event_type, t.uid, t.event_time\n",
        "order by t.uid, t.event_time),\n",
        "\n",
        "new_ses as (\n",
        "\n",
        "\n",
        "select t.*,\n",
        "\n",
        "\n",
        "dateDiff('minute',t.event_time_prev,t.event_time) as min_since_prev,\n",
        "case when dateDiff('minute',t.event_time_prev,t.event_time) >= 30 then 1 else 0 end new_session\n",
        "\n",
        "\n",
        "\n",
        " from events_lag t),\n",
        "\n",
        " ses_id as (\n",
        "\n",
        " select\n",
        " t.event_type, t.uid, t.event_time,\n",
        "\n",
        " sum(ns.new_session) as session_id\n",
        "\n",
        " from new_ses t\n",
        " left join new_ses ns on t.uid = ns.uid\n",
        " where ns.event_time <= t.event_time\n",
        " group by t.event_type, t.uid, t.event_time\n",
        "order by t.uid, t.event_time),\n",
        "\n",
        "\n",
        "event_group as (\n",
        "\n",
        "\n",
        "select t.uid, t.session_id,\n",
        "arrayStringConcat(groupArray(case when t.event_type = 'tutorial_finished' then '0' else '1' end)) as event_group\n",
        "from ses_id t\n",
        "group by t.uid,t.session_id\n",
        "order by t.uid, t.session_id)\n",
        "\n",
        "\n",
        "select * from event_group t\n",
        "where t.event_group like '%0111%'\n",
        "\n",
        "'''"
      ],
      "execution_count": null,
      "outputs": []
    },
    {
      "cell_type": "code",
      "metadata": {
        "colab": {
          "base_uri": "https://localhost:8080/",
          "height": 108
        },
        "id": "vTgy00GkMvXE",
        "outputId": "3bd11dc7-eff2-4828-97f5-5ac94d736757"
      },
      "source": [
        "select(sql)"
      ],
      "execution_count": null,
      "outputs": [
        {
          "output_type": "execute_result",
          "data": {
            "text/html": [
              "<div>\n",
              "<style scoped>\n",
              "    .dataframe tbody tr th:only-of-type {\n",
              "        vertical-align: middle;\n",
              "    }\n",
              "\n",
              "    .dataframe tbody tr th {\n",
              "        vertical-align: top;\n",
              "    }\n",
              "\n",
              "    .dataframe thead th {\n",
              "        text-align: right;\n",
              "    }\n",
              "</style>\n",
              "<table border=\"1\" class=\"dataframe\">\n",
              "  <thead>\n",
              "    <tr style=\"text-align: right;\">\n",
              "      <th></th>\n",
              "      <th>uid</th>\n",
              "      <th>session_id</th>\n",
              "      <th>event_group</th>\n",
              "    </tr>\n",
              "  </thead>\n",
              "  <tbody>\n",
              "    <tr>\n",
              "      <th>0</th>\n",
              "      <td>1</td>\n",
              "      <td>1</td>\n",
              "      <td>0111</td>\n",
              "    </tr>\n",
              "    <tr>\n",
              "      <th>1</th>\n",
              "      <td>2</td>\n",
              "      <td>1</td>\n",
              "      <td>0111</td>\n",
              "    </tr>\n",
              "  </tbody>\n",
              "</table>\n",
              "</div>"
            ],
            "text/plain": [
              "   uid  session_id event_group\n",
              "0    1           1        0111\n",
              "1    2           1        0111"
            ]
          },
          "metadata": {
            "tags": []
          },
          "execution_count": 259
        }
      ]
    },
    {
      "cell_type": "code",
      "metadata": {
        "id": "Mfesw9Z4MPbv"
      },
      "source": [
        "sql = '''select * from (select '0100100' as col) t\n",
        "where t.col like '%0111%'\n",
        "'''"
      ],
      "execution_count": null,
      "outputs": []
    },
    {
      "cell_type": "code",
      "metadata": {
        "colab": {
          "base_uri": "https://localhost:8080/",
          "height": 32
        },
        "id": "uSd3hHQ-MTTo",
        "outputId": "43e8b437-1862-4c64-f1ba-48ba44d99a70"
      },
      "source": [
        "select(sql)"
      ],
      "execution_count": null,
      "outputs": [
        {
          "output_type": "execute_result",
          "data": {
            "text/html": [
              "<div>\n",
              "<style scoped>\n",
              "    .dataframe tbody tr th:only-of-type {\n",
              "        vertical-align: middle;\n",
              "    }\n",
              "\n",
              "    .dataframe tbody tr th {\n",
              "        vertical-align: top;\n",
              "    }\n",
              "\n",
              "    .dataframe thead th {\n",
              "        text-align: right;\n",
              "    }\n",
              "</style>\n",
              "<table border=\"1\" class=\"dataframe\">\n",
              "  <thead>\n",
              "    <tr style=\"text-align: right;\">\n",
              "      <th></th>\n",
              "    </tr>\n",
              "  </thead>\n",
              "  <tbody>\n",
              "  </tbody>\n",
              "</table>\n",
              "</div>"
            ],
            "text/plain": [
              "Empty DataFrame\n",
              "Columns: []\n",
              "Index: []"
            ]
          },
          "metadata": {
            "tags": []
          },
          "execution_count": 255
        }
      ]
    },
    {
      "cell_type": "code",
      "metadata": {
        "colab": {
          "base_uri": "https://localhost:8080/",
          "height": 108
        },
        "id": "QXHe_zFaEX_F",
        "outputId": "5b75aa01-201a-4ce7-ebfe-3ef831cd3b2f"
      },
      "source": [
        "select(sql)"
      ],
      "execution_count": null,
      "outputs": [
        {
          "output_type": "execute_result",
          "data": {
            "text/html": [
              "<div>\n",
              "<style scoped>\n",
              "    .dataframe tbody tr th:only-of-type {\n",
              "        vertical-align: middle;\n",
              "    }\n",
              "\n",
              "    .dataframe tbody tr th {\n",
              "        vertical-align: top;\n",
              "    }\n",
              "\n",
              "    .dataframe thead th {\n",
              "        text-align: right;\n",
              "    }\n",
              "</style>\n",
              "<table border=\"1\" class=\"dataframe\">\n",
              "  <thead>\n",
              "    <tr style=\"text-align: right;\">\n",
              "      <th></th>\n",
              "      <th>uid</th>\n",
              "      <th>session_id</th>\n",
              "      <th>event_group</th>\n",
              "    </tr>\n",
              "  </thead>\n",
              "  <tbody>\n",
              "    <tr>\n",
              "      <th>0</th>\n",
              "      <td>1</td>\n",
              "      <td>1</td>\n",
              "      <td>0111</td>\n",
              "    </tr>\n",
              "    <tr>\n",
              "      <th>1</th>\n",
              "      <td>2</td>\n",
              "      <td>1</td>\n",
              "      <td>0111</td>\n",
              "    </tr>\n",
              "  </tbody>\n",
              "</table>\n",
              "</div>"
            ],
            "text/plain": [
              "   uid  session_id event_group\n",
              "0    1           1        0111\n",
              "1    2           1        0111"
            ]
          },
          "metadata": {
            "tags": []
          },
          "execution_count": 245
        }
      ]
    },
    {
      "cell_type": "code",
      "metadata": {
        "id": "0DebTibHI34W"
      },
      "source": [
        "sql = '''\n",
        "with events_prep as (\n",
        "\n",
        "select distinct 'dummy' as event_type , t.uid,\n",
        "toDateTime('1900-01-01 00:00:00') as event_time\n",
        "\n",
        "from events t\n",
        "\n",
        "union all\n",
        "\n",
        "select * from events t),\n",
        "\n",
        "events_lag as (\n",
        "\n",
        "select t.event_type, t.uid, t.event_time, max(e.event_time) as event_time_prev from events_prep t\n",
        "left join events_prep e on t.uid = e.uid\n",
        "where e.event_time < t.event_time\n",
        "group by t.event_type, t.uid, t.event_time\n",
        "order by t.uid, t.event_time),\n",
        "\n",
        "new_ses as (\n",
        "\n",
        "\n",
        "select t.*,\n",
        "\n",
        "\n",
        "dateDiff('minute',t.event_time_prev,t.event_time) as min_since_prev,\n",
        "case when dateDiff('minute',t.event_time_prev,t.event_time) >= 30 then 1 else 0 end new_session\n",
        "\n",
        "\n",
        "\n",
        " from events_lag t),\n",
        "\n",
        " ses_id as (\n",
        "\n",
        " select\n",
        " t.event_type, t.uid, t.event_time,\n",
        "\n",
        " sum(ns.new_session) as session_id\n",
        "\n",
        " from new_ses t\n",
        " left join new_ses ns on t.uid = ns.uid\n",
        " where ns.event_time <= t.event_time\n",
        " group by t.event_type, t.uid, t.event_time\n",
        "order by t.uid, t.event_time),\n",
        "\n",
        "\n",
        "event_group as (\n",
        "\n",
        "\n",
        "select t.uid, t.session_id,\n",
        "arrayStringConcat(groupArray(case when t.event_type = 'tutorial_finished' then '0' else '1' end)) as event_group\n",
        "from ses_id t\n",
        "group by t.uid,t.session_id\n",
        "order by t.uid, t.session_id)\n",
        "\n",
        "\n",
        "select t.uid,t.session_id, min(t.event_time) from ses_id t\n",
        "\n",
        "'''"
      ],
      "execution_count": null,
      "outputs": []
    }
  ]
}